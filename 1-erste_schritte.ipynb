{
 "cells": [
  {
   "cell_type": "markdown",
   "id": "49db58c2-6e41-4bc6-aaac-398bec26a00c",
   "metadata": {},
   "source": [
    "# Der Kochrezept-Vergleich #\n",
    "\n",
    "Ein beliebter Vergleich, der oft gebracht wird, um die Bedeutung des Programmierens zu veranschaulichen: wir haben einen Rezeptschreiber (Programmierer) und einen Koch (Computer). Der Koch ist allerdings sehr pingelig! Anstatt zu schreiben \"gebe 3 Eier zum Mehl\", müssen wir ihm sagen \"Nimm das erste Ei. Klopfe es auf. Gib den Inhalt in die Schüssel. Nimm das zweite Ei. Klopfe es auf ...\"\n",
    "\n",
    "Je nach Programmiersprache variiert die Auffassungsgabe des Kochs. Unser Python-Koch ist schon recht selbstständig. Jeder, der schon mal in einer Low-Level Sprache wie C, C++ oder Fortran gearbeitet hat, wird das schnell merken. Alle anderen, die bisher noch nicht programmiert haben, seien hier nur einmal darauf hingewiesen, damit sie sich bei später auftretenden Problemen damit trösten können, dass sie in anderen Programmiersprachen _mindestens_ genauso viele Schwierigkeiten hätten ;-)\n"
   ]
  },
  {
   "cell_type": "code",
   "execution_count": null,
   "id": "f1771e03-bca7-4970-a5ee-7bb544bc4c11",
   "metadata": {},
   "outputs": [],
   "source": []
  },
  {
   "cell_type": "markdown",
   "id": "b9235b54-5fc7-4e8f-9c7d-ce54aeeb87bd",
   "metadata": {},
   "source": [
    "# Python als Interpreter Sprache #\n",
    "\n",
    "Python ist im Gegensatz zu Programmiersprachen wie C, C++ oder Fortran eine _Interpretersprache_.\n",
    "Das bedeutet, dass geschriebener Python-Code nicht kompiliert werden muss. Stattdessen wird der Code zur Laufzeit des Programmes vom Python Interpreter abgearbeitet.\n",
    "\n",
    "Tippen Sie einfach \n",
    "```python\n",
    "print(\"Hello World\")\n",
    "```\n",
    "in die nächste Zelle dieses Jupyter-Notebooks und führen Sie nachher Shift +  Enter aus:\n",
    "\n"
   ]
  },
  {
   "cell_type": "code",
   "execution_count": 11,
   "id": "0f3e1f76-7ecb-43fb-b42a-e1f890a47a47",
   "metadata": {},
   "outputs": [],
   "source": [
    "#hier print(\"Hello World\") eintippen \n"
   ]
  },
  {
   "cell_type": "markdown",
   "id": "dd9b955b-054d-4f19-9c11-91af1e9c3d26",
   "metadata": {},
   "source": [
    "Das \"Hello World\" Beispiel zeigt schon gut, worin Pythons große Stärke liegt: die gute Lesbarkeit des Quellcodes!\n",
    "In nur einer Zeile steht alles, was nötig ist, um das Programm auszuführen.\n",
    "\n",
    "Was passiert hier genau? In dem dem Code-Block wird die print Funktion aufgerufen. Als Argument bekommt sie eine Zeichenkette (einen sogenannten String) geliefert. Dieser String wird dann schließlich beim Ausführen des Programms ausgegeben.\n",
    "\n",
    "\n",
    "Zum Vergleich \"Hello World\" in Java:\n",
    "```java\n",
    "class Main{\n",
    "    public static void main(String[] args){\n",
    "        System.out.println(\"Hello World\");\n",
    "    }\n",
    "}\n"
   ]
  },
  {
   "cell_type": "code",
   "execution_count": 12,
   "id": "2857fec3-3a4e-427f-a571-7db014df90f7",
   "metadata": {},
   "outputs": [
    {
     "name": "stdout",
     "output_type": "stream",
     "text": [
      "43\n"
     ]
    }
   ],
   "source": [
    "test_variable1 = 43\n",
    "print(test_variable1)"
   ]
  },
  {
   "cell_type": "code",
   "execution_count": 13,
   "id": "26515b06-664b-4ac9-9ab9-3c2f2faf182d",
   "metadata": {},
   "outputs": [
    {
     "data": {
      "text/plain": [
       "43"
      ]
     },
     "execution_count": 13,
     "metadata": {},
     "output_type": "execute_result"
    }
   ],
   "source": [
    "test_variable1"
   ]
  },
  {
   "cell_type": "code",
   "execution_count": null,
   "id": "bc97f1f4-3821-4b42-be9b-dadabac7022a",
   "metadata": {},
   "outputs": [],
   "source": []
  },
  {
   "cell_type": "markdown",
   "id": "dd6e29b0-edbc-40fd-a18a-2b6f8393d8c3",
   "metadata": {},
   "source": [
    "# Datentypen und Variablen #\n",
    "\n",
    "In Python können wir u.a. mit folgenden grundlegenden Datentypen arbeiten:\n",
    "\n",
    "* **Integer**: ganzzahlige Zahlen\n",
    "* **Float**: Gleitkomma-Zahlen\n",
    "* **String**: Zeichenketten\n",
    "* **Boolean**: Logische Werte, können True oder False sein\n",
    "* **NoneType**: Spezieller Datentyp, der z.B. als Default-Argument in Funktionen verwendet wird (kommt später)\n",
    "\n",
    "Jeder dieser Datentypen kann nun in einer Variablen gespeichert werden.\n",
    "Dies funktioniert mit einer einfachen Zuweisung wie in folgendem Beispiel:\n",
    "\n",
    "```python\n",
    "ganze_zahl = 10\n",
    "komma_zahl = 1.234\n",
    "komplexe_zahl = 3.123 + 2j\n",
    "string_variable = \"Hallo Welt\"\n",
    "boolsche_variable = True\n",
    "none_variable = None\n",
    "```\n",
    "\n",
    "Hier haben wir vier Variablen mit den Namen _ganze_zahl_, _komma_zahl_, _komplexe_zahl_, _string_variable_ und _boolsche_variable_ initialisiert.\n",
    "Im Gegensatz zu anderen Programmiersprachen erkennt der Interpreter von alleine, um was für einen Datentyp es sich handelt.\n",
    "Um zu sehen, welchen Datentyp unsere Variablen nun haben, schreiben wir\n",
    "\n",
    "```python\n",
    "print(type(ganze_zahl))\n",
    "print(type(komma_zahl))\n",
    "print(type(komplexe_zahl))\n",
    "print(type(string_variable))\n",
    "print(type(boolsche_variable))\n",
    "print(type(none_variable))\n",
    "```\n",
    "mit den Resultaten\n",
    "```\n",
    "<class 'int'>\n",
    "<class 'float'>\n",
    "<class 'complex'>\n",
    "<class 'str'>\n",
    "<class 'bool'>\n",
    "<class 'NoneType'>\n",
    "```  \n",
    "Ein kleiner Hinweis zu Variablennamen:\n",
    "Grundsätzlich ist es möglich, seine Variablen zu nennen, wie man möchte, solange sie mit einem Buchstaben beginnen. Zahlen am Anfang sind nicht erlaubt. Sonderzeichen dürfen nicht im Variablennamen vorkommen. Darüberhinaus ist es Konvention, Variablennamen klein zu schreiben und mit Unterstrich zu trennen.\n"
   ]
  },
  {
   "cell_type": "code",
   "execution_count": 14,
   "id": "32707a09-9221-4849-828a-6bcaa37b8548",
   "metadata": {},
   "outputs": [],
   "source": [
    "#Hier bitte den Python-Code aus der vorhergehenden Notebook-Zelle testen.\n",
    "\n",
    "#ganze_zahl = 10\n",
    "#komma_zahl = 1.234\n",
    "#komplexe_zahl = 3.123 + 2j\n",
    "#string_variable = \"Hallo Welt\"\n",
    "#boolsche_variable = True\n",
    "#none_variable = None\n",
    "\n",
    "#print(type(ganze_zahl))\n",
    "#print(type(komma_zahl))\n",
    "#print(type(komplexe_zahl))\n",
    "#print(type(string_variable))\n",
    "#print(type(boolsche_variable))\n",
    "#print(type(none_variable))"
   ]
  },
  {
   "cell_type": "markdown",
   "id": "f3721c1b-1207-4288-b9f8-9bc7ab6088c7",
   "metadata": {},
   "source": [
    "# Operatoren #\n",
    "\n",
    "Bisher ist in unseren Programmen noch nicht viel passiert. Das wird sich nun ändern!\n",
    "Mit Operatoren ist es uns nun möglich, Werte in unseren Programmen miteinander zu vergleichen, Variablen neue Werte zuzuweisen, oder mathematische Ausdrücke zu berechnen.\n",
    "\n",
    "* Zuweisungsoperator =\n",
    "\n",
    "  Diesen Operator haben wir schon im vorherigen Abschnitt kennengelernt.\n",
    "  ```python\n",
    "  x = 3\n",
    "  ```\n",
    "  Dieser Operator weist einer Variablen einen Wert zu.\n",
    "\n",
    "* Arithmetische Operatoren +, -, *, /, %, **  \n",
    "  Mit diesen Operatoren können wir einfache arithmetische Ausdrücke berechnen.\n",
    "  ```python\n",
    "  print(4 * 3)\n",
    "  print(10 / 5)\n",
    "  print(10 / 4)\n",
    "  print(10 + 3 - 11)\n",
    "  print(14 % 3)\n",
    "  print(10**2)\n",
    "  ```\n",
    "  Ausgabe:\n",
    "  ```\n",
    "  12\n",
    "  2.0\n",
    "  2.5\n",
    "  2\n",
    "  2\n",
    "  100\n",
    "\n",
    "  ```\n",
    "  Wir können diese natürlich auch mit dem Zuweisungs-Operator kombinieren:\n",
    "  ```python\n",
    "  x = 4 * 3 + 13 / 5\n",
    "  print(x)\n",
    "  ```\n",
    "  Ausgabe:\n",
    "  ```\n",
    "  14.6\n",
    "  ```\n"
   ]
  },
  {
   "cell_type": "code",
   "execution_count": 15,
   "id": "46f14867-a8aa-45ed-bdef-90a7a1dccb2a",
   "metadata": {},
   "outputs": [],
   "source": [
    "#Hier bitte den Python-Code aus der vorhergehenden Notebook-Zelle testen."
   ]
  },
  {
   "cell_type": "markdown",
   "id": "6e018044-a751-451b-8185-8db651783d8c",
   "metadata": {},
   "source": [
    "\n",
    "* Logische Operatoren not, and, or\n",
    "  Diese Operatoren akzeptieren als Eingabe boolesche Werte und geben einen booleschen Wert zurück.  \n",
    "  **not** negiert einen booleschen Wert:\n",
    "  ```python\n",
    "  print(not False)\n",
    "  print(not True)\n",
    "  ```\n",
    "  Ausgabe:\n",
    "  ```\n",
    "  True\n",
    "  False\n",
    "  ```\n",
    "  **and** ergibt _True_ wenn beide Eingabewerte _True_ sind, ansonsten _False_\n",
    "  ```python\n",
    "  print(True and True)\n",
    "  print(True and False)\n",
    "  print(False and False)\n",
    "\n",
    "  print(1+2==3 and 4*4==16)\n",
    "  print(1+2==3 and False)\n",
    "  x = 7\n",
    "  print(x == 7 and x+3 == 10 and True)\n",
    "  ```\n",
    "  Ausgabe\n",
    "  ```\n",
    "  True\n",
    "  False\n",
    "  False\n",
    "  True\n",
    "  False\n",
    "  True\n",
    "  ```\n",
    "  **or** ergibt _True_ wenn mindestens einer der beiden Eingabewerte _True_ ist.\n",
    "  ```python\n",
    "  print(True or True)\n",
    "  print(True or False)\n",
    "  print(False or False)\n",
    "  x = 5\n",
    "  print(x<5 or x>5)\n",
    "  ```\n",
    "  Ausgabe:\n",
    "  ```\n",
    "  True\n",
    "  True\n",
    "  False\n",
    "  False\n",
    "  ```\n"
   ]
  },
  {
   "cell_type": "code",
   "execution_count": 16,
   "id": "d41c230d-9178-40dc-996c-43c912a3db6e",
   "metadata": {},
   "outputs": [],
   "source": [
    "#Hier bitte den Python-Code aus der vorhergehenden Notebook-Zelle testen."
   ]
  },
  {
   "cell_type": "markdown",
   "id": "a2d2779f-330f-4533-b443-4ebfa656ab83",
   "metadata": {},
   "source": [
    "# Schleifen #\n",
    "\n",
    "In Python gibt es zwei Arten von Schleifen:\n",
    "\n",
    "## For-Schleife ##\n",
    "\n",
    "Die for-Schleife wird verwendet, wenn man einen Code-Teil eine bestimmte Anzahl von Malen wiederholen möchte.\n",
    "\n",
    "  Z.B.\n",
    "\n",
    "  ```python\n",
    "  for i in range(10):\n",
    "    print(i)\n",
    "  ```\n",
    "\n",
    "  Ausgabe:\n",
    "\n",
    "  ```\n",
    "  0\n",
    "  1\n",
    "  2\n",
    "  3\n",
    "  4\n",
    "  5\n",
    "  6\n",
    "  7\n",
    "  8\n",
    "  9\n",
    "  ```\n",
    "\n",
    "Wichtig ist hierbei die Einrückung nach der for-Anweisung (Konvention sind 4 Leerzeichen pro Einrückung). Alles, was nach der for-Anweisung eingerückt geschrieben wird,\n",
    "wird so oft ausgeführt, wie die for-Schleife durchlaufen wird.\n"
   ]
  },
  {
   "cell_type": "code",
   "execution_count": 17,
   "id": "221c5339-8cd9-4378-abaf-10155a383b65",
   "metadata": {},
   "outputs": [],
   "source": [
    "#Hier bitte den Python-Code aus der vorhergehenden Notebook-Zelle testen."
   ]
  },
  {
   "cell_type": "markdown",
   "id": "62f284e5-a9de-4cb3-b7c9-2768ac22423d",
   "metadata": {},
   "source": [
    "## While-Schleife ##\n",
    "\n",
    "Die While-Schleife wird benutzt, um eine Bedingung zu prüfen, und wenn diese erfüllt ist, den nachfolgenden Code auszuführen\n",
    "\n",
    "  Beispiel:\n",
    "\n",
    "  ```python\n",
    "  summe = 0\n",
    "  i = 0\n",
    "  while summe < 20:\n",
    "    i = i + 1\n",
    "    summe = summe + i\n",
    "  ```\n"
   ]
  },
  {
   "cell_type": "code",
   "execution_count": 18,
   "id": "3a2a2e17-d1b2-44ad-ad8c-73d884616b31",
   "metadata": {},
   "outputs": [],
   "source": [
    "#Hier bitte den Python-Code aus der vorhergehenden Notebook-Zelle testen."
   ]
  },
  {
   "cell_type": "markdown",
   "id": "0d2b9bf4-2520-4c6d-81b4-f178c434cbea",
   "metadata": {},
   "source": [
    "## Mit _break_ aus einer Schleife ausbrechen ##\n",
    "\n",
    "Manchmal gibt es Fälle, in denen wir vorzeitig aus einer Schleife ausbrechen wollen. In diesen Fällen hilft uns das Statement _break_\n",
    "\n",
    "Beispiel:\n",
    "\n",
    "```python\n",
    "for i in range(10):\n",
    "    print(i)\n",
    "    if i == 4:\n",
    "        break\n",
    "```\n",
    "\n",
    "Ausgabe:\n",
    "\n",
    "```\n",
    "0\n",
    "1\n",
    "2\n",
    "3\n",
    "4\n",
    "```\n",
    "\n",
    "Anstatt die komplette Schleife zu durchlaufen, bricht das Programm die Schleife ab, sobald es die break-Anweisung erreicht.\n"
   ]
  },
  {
   "cell_type": "code",
   "execution_count": 19,
   "id": "aba3fd7b-750a-4264-9c3d-63b9e85ce2e0",
   "metadata": {},
   "outputs": [],
   "source": [
    "#Hier bitte den Python-Code aus der vorhergehenden Notebook-Zelle testen."
   ]
  },
  {
   "cell_type": "markdown",
   "id": "d832ed2f-117d-4c69-bf27-81227c63f1d0",
   "metadata": {},
   "source": [
    "# Bedingte Anweisungen (if-statements) #\n",
    "\n",
    "Um ein richtiges Programm schreiben zu können, müssen wir dem Computer mitteilen können, wie er auf bestimmte Situationen reagieren soll. Dafür sind **bedingte Anweisungen** nötig.\n",
    "Die Form dieser **if statements** ist wie folgt:\n",
    "\n",
    "```python\n",
    "if <Bedingung>:\n",
    "    <Anweisung 1>\n",
    "elif <Bedingung 2>:\n",
    "    <Anweisung 2>\n",
    "else:\n",
    "    <Anweisung 3>\n",
    "```\n",
    "\n",
    "*<Bedingung>* ist dabei ein Ausdruck, der einen boolschen Wert zurückgibt. Die Anweisungen sind beliebiger Python-Code.\n",
    "\n",
    "Beispiel:\n",
    "\n",
    "```python\n",
    "x = 7\n",
    "\n",
    "if 0 <= x <= 5:\n",
    "    print(\"x lässt sich an einer Hand abzählen\")\n",
    "elif 6 <= x <= 10:\n",
    "    print(\"x lässt sich an zwei Händen abzählen\")\n",
    "elif x > 10:\n",
    "    print(\"Dieses x ist mir zu groß...\")\n",
    "else:\n",
    "    print(\"Dieses x ist mir zu klein...\")\n",
    "```\n",
    "\n",
    "Was passiert in diesem Beispiel? Zuallererst wird in x der Wert 7 gespeichert.\n",
    "Nun beginnt das if-Statement: die erste boolsche Funktion wird ausgewertet. Da x größer als 5 ist,\n",
    "ergibt der gesamte Ausdruck False. Daher wird der darauf folgende Code nicht ausgewertet. Das Programm springt weiter zum elif-Statement. Da 6 <= 7 <= 10 True ergibt, gibt das Programm den Satz \"\"x lässt sich an zwei Händen abzählen\" aus. Die letzten beiden Bedingungen werden übersprungen da die zweite Bedingung True ergab).\n",
    "\n"
   ]
  },
  {
   "cell_type": "code",
   "execution_count": 20,
   "id": "01b2c84d-cd88-4659-8114-020be13ede10",
   "metadata": {},
   "outputs": [],
   "source": [
    "#Hier bitte den Python-Code aus der vorhergehenden Notebook-Zelle testen."
   ]
  },
  {
   "cell_type": "markdown",
   "id": "570337cb-29b1-4727-88d3-5c8ba9cfca54",
   "metadata": {},
   "source": [
    "# Ein- und Ausgabe #\n",
    "\n",
    "In diesem Kapitel beschäftigen wir uns mit verschiedenen Arten der Ein- und Ausgabe, nämlich:\n",
    "\n",
    "* Einlesen und Schreiben von Dateien\n",
    "* Einlesen von Tastatureingaben\n",
    "\n",
    "__Schreiben__:\n",
    "\n",
    "Um eine Datei zu öffnen, benötigen wir den Befehl __open__:\n",
    "\n",
    "```python\n",
    "datei = open(\"meine_datei\", \"w\")\n",
    "```\n",
    "\n",
    "Das __\"w\"__ steht dabei für _writeable_. Möchte man eine (schon existierende) Datei nur auslesen, benutzt man __\"r\"__ für _readable_.\n",
    "Möchte man an eine bestehende Datei weiteren Text anhängen, muss man __\"a\"__ (für _append_) benutzen.\n",
    "\n",
    "Als nächstes möchten wir etwas in unsere gerade geöffnete Datei schreiben.\n",
    "Dazu benutzen wir, wie schon im Hello World Programm die print-Funktion:\n",
    "\n",
    "```python\n",
    "print(\"Dieser Satz steht in der ersten Zeile\", file=datei)\n",
    "print(\"Und der hier in der zweiten\", file=datei)\n",
    "```\n",
    "\n",
    "Anschließend müssen wir die Datei noch schließen.\n",
    "\n",
    "```python\n",
    "datei.close()\n",
    "```\n"
   ]
  },
  {
   "cell_type": "code",
   "execution_count": 21,
   "id": "f241d902-cc76-40f7-8bb5-4e7df81fba2a",
   "metadata": {},
   "outputs": [],
   "source": [
    "#Hier bitte den Python-Code aus der vorhergehenden Notebook-Zelle testen."
   ]
  },
  {
   "cell_type": "markdown",
   "id": "7467dd18-e0a7-42e4-8793-fd4de973f448",
   "metadata": {},
   "source": [
    "In diesem Beispiel gibt es allerdings ein Problem. Angenommen, etwas unvorhergesehenes geschieht, bevor das Programm die Datei schließen kann:\n",
    "\n",
    "```python\n",
    "datei = open(\"meine_datei\", \"w\")\n",
    "print(1/0) # Das wird mit einer Fehlermeldung abbrechen...\n",
    "datei.close() # diese Zeile wird nie ausgeführt werden\n",
    "```\n",
    "\n",
    "In diesem Fall wird f.close() nie ausgeführt. Als Resultat können Speicherprobleme auftreten, oder die Datei wird unlesbar.\n",
    "\n",
    "Die sichere Variante sieht wie folgt aus:\n",
    "\n",
    "```python\n",
    "with open(\"meine_datei\", \"w\") as datei:\n",
    "    print(\"Dieser Satz steht in der ersten Zeile\", file=datei)\n",
    "    print(\"Und der hier in der zweiten\", file=datei)\n",
    "```\n"
   ]
  },
  {
   "cell_type": "code",
   "execution_count": 22,
   "id": "919bf009-e776-4a44-a570-b4c95575df67",
   "metadata": {},
   "outputs": [],
   "source": [
    "#Hier bitte den Python-Code aus der vorhergehenden Notebook-Zelle testen."
   ]
  },
  {
   "cell_type": "markdown",
   "id": "2fad8969-4652-4e86-a7e1-d6e2cb7eeecd",
   "metadata": {},
   "source": [
    "__Einlesen__:\n",
    "\n",
    "Das Einlesen einer Datei funktioniert ähnlich. Hier können wir zum Einlesen aller Zeilen einen schönen Trick verwenden:\n",
    "\n",
    "```python\n",
    "with open(\"meine_datei\", \"r\") as datei:\n",
    "    for line in datei:\n",
    "        print(line)\n",
    "```\n",
    "\n",
    "Hier benutzen wir eine for-Schleife, die über alle Zeilen in unserer Datei iteriert.\n",
    "Tatsächlich kann man in Python for-Schleifen sehr vielfältig anwenden. Mehr dazu beim nächsten Mal!"
   ]
  },
  {
   "cell_type": "code",
   "execution_count": 23,
   "id": "cb56ac9d-cbe2-4335-ad9f-832bb0a7dbe0",
   "metadata": {},
   "outputs": [],
   "source": [
    "#Hier bitte den Python-Code aus der vorhergehenden Notebook-Zelle testen."
   ]
  },
  {
   "cell_type": "markdown",
   "id": "731ddce1-db75-4438-93d7-f956f13a20e1",
   "metadata": {},
   "source": [
    "Hier benutzen wir eine for-Schleife, die über alle Zeilen in unserer Datei iteriert.\n",
    "Tatsächlich kann man in Python for-Schleifen sehr vielfältig anwenden. Mehr dazu beim nächsten Mal!\n",
    "\n",
    "__Tastatureingabe__:\n",
    "\n",
    "Mit dem Handling von Tastatureingaben können wir unsere Programme endlich etwas interaktiver gestalten!\n",
    "Die Syntax dafür ist wie folgt:\n",
    "\n",
    "```python\n",
    "user_input = input(\"Bitte geben Sie etwas ein: \")\n",
    "print(\"Sie gaben ein:\", user_input)\n",
    "```\n",
    "\n",
    "In Kombination mit if-else Anweisungen können wir nun Programme schreiben,\n",
    "die auf verschiedene User-Eingaben reagieren. Mehr dazu in den Übungen.\n"
   ]
  },
  {
   "cell_type": "code",
   "execution_count": 24,
   "id": "41bd2739-dc76-43cd-ae45-a0b5d5d2257f",
   "metadata": {},
   "outputs": [
    {
     "name": "stdin",
     "output_type": "stream",
     "text": [
      "Bitte geben Sie etwas ein:  asdsad\n"
     ]
    },
    {
     "name": "stdout",
     "output_type": "stream",
     "text": [
      "Sie gaben ein: asdsad\n"
     ]
    }
   ],
   "source": [
    "#Hier bitte den Python-Code aus der vorhergehenden Notebook-Zelle testen.\n",
    "user_input = input(\"Bitte geben Sie etwas ein: \")\n",
    "print(\"Sie gaben ein:\", user_input)"
   ]
  },
  {
   "cell_type": "code",
   "execution_count": null,
   "id": "ee2f0fde-7b7e-40ad-a6fa-e8c2b48dbb95",
   "metadata": {},
   "outputs": [],
   "source": []
  }
 ],
 "metadata": {
  "kernelspec": {
   "display_name": "Python 3",
   "language": "python",
   "name": "python3"
  },
  "language_info": {
   "codemirror_mode": {
    "name": "ipython",
    "version": 3
   },
   "file_extension": ".py",
   "mimetype": "text/x-python",
   "name": "python",
   "nbconvert_exporter": "python",
   "pygments_lexer": "ipython3",
   "version": "3.8.3"
  }
 },
 "nbformat": 4,
 "nbformat_minor": 5
}
