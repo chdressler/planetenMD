{
 "cells": [
  {
   "cell_type": "markdown",
   "id": "49db58c2-6e41-4bc6-aaac-398bec26a00c",
   "metadata": {},
   "source": [
    "# Der Kochrezept-Vergleich #\n",
    "\n",
    "Ein beliebter Vergleich, der oft gebracht wird, um die Bedeutung des Programmierens zu veranschaulichen: wir haben einen Rezeptschreiber (Programmierer) und einen Koch (Computer). Der Koch ist allerdings sehr pingelig! Anstatt zu schreiben \"gebe 3 Eier zum Mehl\", müssen wir ihm sagen \"Nimm das erste Ei. Klopfe es auf. Gib den Inhalt in die Schüssel. Nimm das zweite Ei. Klopfe es auf ...\"\n",
    "\n",
    "Je nach Programmiersprache variiert die Auffassungsgabe des Kochs. Unser Python-Koch ist schon recht selbstständig. Jeder, der schon mal in einer Low-Level Sprache wie C, C++ oder Fortran gearbeitet hat, wird das schnell merken. Alle anderen, die bisher noch nicht programmiert haben, seien hier nur einmal darauf hingewiesen, damit sie sich bei später auftretenden Problemen damit trösten können, dass sie in anderen Programmiersprachen _mindestens_ genauso viele Schwierigkeiten hätten ;-)\n"
   ]
  },
  {
   "cell_type": "code",
   "execution_count": 1,
   "id": "e37b5de1-56ba-4fe6-8bd9-2e53990b662c",
   "metadata": {},
   "outputs": [
    {
     "name": "stdout",
     "output_type": "stream",
     "text": [
      "hello world\n"
     ]
    }
   ],
   "source": [
    "print(\"hello world\")"
   ]
  },
  {
   "cell_type": "code",
   "execution_count": null,
   "id": "1d0a26e9-9d81-4b73-85a6-6419615d6995",
   "metadata": {},
   "outputs": [],
   "source": []
  },
  {
   "cell_type": "code",
   "execution_count": null,
   "id": "f1771e03-bca7-4970-a5ee-7bb544bc4c11",
   "metadata": {},
   "outputs": [],
   "source": []
  },
  {
   "cell_type": "markdown",
   "id": "b9235b54-5fc7-4e8f-9c7d-ce54aeeb87bd",
   "metadata": {},
   "source": [
    "# Der Kochrezept-Vergleich #\n",
    "\n",
    "Ein beliebter Vergleich, der oft gebracht wird, um die Bedeutung des Programmierens zu veranschaulichen: wir haben einen Rezeptschreiber (Programmierer) und einen Koch (Computer). Der Koch ist allerdings sehr pingelig! Anstatt zu schreiben \"gebe 3 Eier zum Mehl\", müssen wir ihm sagen \"Nimm das erste Ei. Klopfe es auf. Gib den Inhalt in die Schüssel. Nimm das zweite Ei. Klopfe es auf ...\"\n",
    "\n",
    "Je nach Programmiersprache variiert die Auffassungsgabe des Kochs. Unser Python-Koch ist schon recht selbstständig. Jeder, der schon mal in einer Low-Level Sprache wie C, C++ oder Fortran gearbeitet hat, wird das schnell merken. Alle anderen, die bisher noch nicht programmiert haben, seien hier nur einmal darauf hingewiesen, damit sie sich bei später auftretenden Problemen damit trösten können, dass sie in anderen Programmiersprachen _mindestens_ genauso viele Schwierigkeiten hätten ;-)\n",
    "\n",
    "# Python als Interpreter Sprache #\n",
    "\n",
    "Python ist im Gegensatz zu Programmiersprachen wie C, C++ oder Fortran eine _Interpretersprache_.\n",
    "Das bedeutet, dass geschriebener Python-Code nicht kompiliert werden muss. Stattdessen wird der Code zur Laufzeit des Programmes vom Python Interpreter abgearbeitet.\n",
    "\n",
    "Wenn wir ein Programm mit dem Namen hello_world.py starten möchten, müssen wir in der Konsole daher einfach nur\n",
    "```bash\n",
    "python hello_world.py\n",
    "```\n",
    "eingeben.\n",
    "\n",
    "# Hello World #\n",
    "\n",
    "Um einen ersten Eindruck einer Programmiersprache zu geben, beginnen die meisten Tutorials mit einem simplen Programm, das nur die Worte \"Hello World\" ausgibt. Auch dieses Tutorium macht da keinen Unterschied.\n",
    "\n",
    "Wir legen eine Textdatei **hello_world.py** mit folgendem Inhalt an:\n",
    "```python\n",
    "print(\"Hello World\")\n",
    "```\n",
    "Das \"Hello World\" Programm zeigt schon gut, worin Pythons große Stärke liegt: die gute Lesbarkeit des Quellcodes!\n",
    "In nur einer Zeile steht alles, was nötig ist, um das Programm auszuführen.\n",
    "\n",
    "Was passiert hier genau? In dem Programm wird die print Funktion aufgerufen. Als Argument bekommt sie eine Zeichenkette (einen sogenannten String) geliefert. Dieser String wird dann schließlich beim Ausführen des Programms ausgegeben.\n",
    "\n",
    "\n",
    "Zum Vergleich \"Hello World\" in Java:\n",
    "```java\n",
    "class Main{\n",
    "    public static void main(String[] args){\n",
    "        System.out.println(\"Hello World\");\n",
    "    }\n",
    "}\n"
   ]
  },
  {
   "cell_type": "code",
   "execution_count": null,
   "id": "0f3e1f76-7ecb-43fb-b42a-e1f890a47a47",
   "metadata": {},
   "outputs": [],
   "source": []
  }
 ],
 "metadata": {
  "kernelspec": {
   "display_name": "Python 3",
   "language": "python",
   "name": "python3"
  },
  "language_info": {
   "codemirror_mode": {
    "name": "ipython",
    "version": 3
   },
   "file_extension": ".py",
   "mimetype": "text/x-python",
   "name": "python",
   "nbconvert_exporter": "python",
   "pygments_lexer": "ipython3",
   "version": "3.8.3"
  }
 },
 "nbformat": 4,
 "nbformat_minor": 5
}
