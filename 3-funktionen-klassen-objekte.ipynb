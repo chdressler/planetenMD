{
 "cells": [
  {
   "cell_type": "markdown",
   "id": "c9f3e355-ad96-4055-b86a-18485e124ead",
   "metadata": {},
   "source": [
    "Funktionen sind ein wichtiger Baustein eines Computerprogramms. Sie erlauben eine bessere Gliederung des Codes und erleichtern die Wiederverwendung von Code-Stücken.\n",
    "\n",
    "## Grundlagen ##\n",
    "\n",
    "Um eine Funktion zu erstellen wird das _def_ keyword benötigt, anschließend kommt der Funktionsname, und dahinter eine Klammer, in die die Funktionsargumente geschrieben werden (falls die Funktion welche benötigt).\n",
    "\n",
    "```python\n",
    "def quadrat(x):\n",
    "    return x*x\n",
    "```\n",
    "\n",
    "In dem oberen Beispiel hat die Funktion einen Rückgabewert. Das muss aber auch nicht zwingend sein:\n",
    "\n",
    "```python\n",
    "def hello_world():\n",
    "    print(\"Hello World\")\n",
    "```\n",
    "\n",
    "Man kann den Funktionsargumente Defaultwerte geben, die benutzt werden, falls die Funktion ohne Parameter aufgerufen wird:\n",
    "\n",
    "```python\n",
    "def summe(a=0, b=0, c=0):\n",
    "    return a + b + c\n",
    "\n",
    "print(summe())\n",
    "```\n",
    "\n",
    "Ausgabe:\n",
    "```\n",
    "0\n",
    "```\n",
    "\n",
    "Es ginge aber z.B. auch:\n",
    "\n",
    "```python\n",
    "summe(1, 2) # a und b werden auf 1 und 2 gesetzt, c hat den Defaultwert 0\n",
    "\n",
    "summe(a=100) # a wird auf 100 gesetzt, b und c haben den Defaultwert 0\n",
    "\n",
    "summe(3, c=99.912) # a wird auf 3 und c auf 99.912 gesetzt, b hat den Defaultwert 0\n",
    "```\n",
    "\n",
    "Darüberhinaus ist es möglich, eine Funktion zu schreiben, die beliebig viele Argumente akzeptiert:\n",
    "\n",
    "```python\n",
    "def summe(*args):\n",
    "    total = 0\n",
    "    for value in args:\n",
    "        total += value\n",
    "    return total\n",
    "\n",
    "\n",
    "print(summe(1))\n",
    "print(summe(1, 2, 3))\n",
    "print(summe(1, 2, 3, 4, 5, 6, 7, 8, 9, 10))\n",
    "```\n",
    "\n",
    "Ausgabe:\n",
    "```\n",
    "1\n",
    "6\n",
    "55\n",
    "```\n",
    "Alle Argumente, die _summe_ übergeben werden, werden in einem Tupel namens _args_ gespeichert.\n",
    "Über diesen können wir dann iterieren.\n"
   ]
  },
  {
   "cell_type": "code",
   "execution_count": 1,
   "id": "d6179c3a-60be-4cc0-9297-c0c4c8eeffd7",
   "metadata": {},
   "outputs": [],
   "source": [
    "#Hier bitte den Python-Code aus der vorhergehenden Notebook-Zelle testen.\n",
    "\n",
    "#also z.B.:\n",
    "#def quadrat(x):\n",
    "#    return x*x\n",
    "#\n",
    "#y = quadrat(5)\n",
    "#print(y)\n",
    "#\n",
    "# usw ...\n",
    "\n"
   ]
  },
  {
   "cell_type": "markdown",
   "id": "dbf25301-bdd8-45b3-962f-a9af23d090f4",
   "metadata": {},
   "source": [
    "## Rekursive Funktionen ##\n",
    "\n",
    "_Falls Sie rekursive Funktionen nicht verstehen, lesen Sie diesen Satz bitte nochmal._\n",
    "\n",
    "\n",
    "Scherz beiseite, rekursive Funktionen sind Funktionen, die ein Problem lösen, indem sie sich selbst nochmal aufrufen.\n",
    "\n",
    "Das bekannsteste Beispiel ist vermutlich die Fakultätsfunktion:\n",
    "Wie die meisten vermutlich noch aus der Schulzeit (oder aus der Mathevorlesung) wissen, ist die Fakultät\n",
    "einer natürlichen Zahl n definiert als:\n",
    "\n",
    "```\n",
    "n! = n * (n-1) * (n-2) * ... * 1\n",
    "```\n",
    "\n",
    "Obige Formel können wir aber auch folgendermaßen schreiben:\n",
    "\n",
    "```\n",
    "n! = n * (n-1)!\n",
    "```\n",
    "\n",
    "In dieser Schreibweise sagt uns die Formel also, dass die Fakultät von n einfach n mal die Fakultät der Vorgängerzahl von n ist.\n",
    "\n",
    "Hier fehlt allerdings noch eine Kleinigkeit: wir brauchen einen Rekursionsanker, der uns sagt, wann wir aufhören können zu rechnen. In diesem Fall ist dieser Anker die Tatsache, dass 0! = 1.\n",
    "\n",
    "Als Programm geschrieben, sieht das ganze so aus:\n",
    "\n",
    "```python\n",
    "def fakultaet(n):\n",
    "    if n == 0:\n",
    "        return 1\n",
    "    else:\n",
    "        return n * fakultaet(n-1)\n",
    "```\n",
    "\n",
    "\n"
   ]
  },
  {
   "cell_type": "code",
   "execution_count": null,
   "id": "0d66adba-be6c-487d-9865-706eed341445",
   "metadata": {},
   "outputs": [],
   "source": [
    "#Hier bitte den Python-Code aus der vorhergehenden Notebook-Zelle testen."
   ]
  },
  {
   "cell_type": "markdown",
   "id": "a87d85af-ac9a-4c14-a98f-d1e8e5f4629e",
   "metadata": {},
   "source": [
    "# Klassen und Objekte #\n",
    "\n",
    "Aus Zeitgründen wird dieses Thema nur kurz angeschnitten werden, auch wenn man eigentlich sehr viel mehr Zeit damit verbringen könnte.\n",
    "\n",
    "Wir hatten zuvor gesehen, dass wir mit Funktionen gewissermaßen unseren Code etwas aufräumen können. Code der häufiger verwendet wird, wird als Funktion definiert, und später nur noch über den Funktionsnamen aufgerufen.\n",
    "\n",
    "Ebenso können wir nun Variablen __und__ Funktionen zusammenfassen. Das geht über ein Objekt.\n",
    "Die Klasse ist dabei die Blaupause, aus der ein Objekt erstellt wird. Aus einer Klasse können beliebig viele Objekte erstellt werden.\n",
    "\n",
    "Eine Klasse wird folgendermaßen in Python definiert:\n",
    "\n",
    "```python\n",
    "class MeineKlasse:\n",
    "    var1 = ...\n",
    "    var2 = ...\n",
    "    ...\n",
    "    def __init__(self, p1, p2, p3, ...):\n",
    "        ...\n",
    "    def methode1(self, q1, q2, ...)\n",
    "        ...\n",
    "    def methode2(self, ...)\n",
    "        ...\n",
    "    ...\n",
    "```\n",
    "\n",
    "_var1_ und _var2_ sind hier Objektvariablen, _methode1_ und _methode2_ Methoden, d.h. Funktionen, die jedes Objekt dieser Klasse besitzen wird.\n",
    "Die Methode *\\_\\_init\\_\\_* ist eine besondere Methode. Sie wird beim Erstellen eines Objekts aufgerufen.\n",
    "\n",
    "Ein Beispiel aus der Physik: wir wollen ein freies Teilchen in zwei Dimensionen simulieren, das durch den Raum fliegt. Wir können es über Position und Geschwindigkeit beschreiben. Darüberhinaus wollen wir ihm eine _move_ Methode geben, die als Parameter einen Zeitschritt akzeptiert, und das Teilchen in dieser Zeit weiterbewegt.\n",
    "\n",
    "```python\n",
    "class Particle:\n",
    "    def __init__(self, x, y, v_x, v_y):\n",
    "        self.x, self.y = x, y # hier wird die x, y Position des Teilchens festgelegt\n",
    "        self.v_x, self.v_y = v_x, v_y # hier wird die Geschwindigkeit festgelegt\n",
    "    def move(self, delta_t):\n",
    "        self.x += self.v_x * delta_t # Teilchen wird in x-Richtung bewegt\n",
    "        self.y += self.v_y * delta_t # Teilchen wird in y-Richtung bewegt\n",
    "```\n",
    "\n",
    "Wann immer wir auf eine Objektvariable zugreifen möchten, müssen wir dies mit einem vorangestellten _self._ kenntlich machen.\n",
    "\n",
    "Wir können nun folgendermaßen ein Objekt erstellen:\n",
    "\n",
    "```python\n",
    "mein_teilchen = Particle(0, 0, 1, 3)  # die Parameter, die wir hier angeben, werden an die __init__ Funktion weitergereicht\n",
    "print mein_teilchen.x, mein_teilchen.y\n",
    "for i in range(10):\n",
    "    mein_teilchen.move(0.1) # ruft die move Methode mit delta_t = 0.1 auf\n",
    "    print(mein_teilchen.x, mein_teilchen.y\n",
    "```)\n",
    "\n",
    "In der ersten Zeile haben wir nun ein Objekt der Klasse _Particle_ erstellt und es _mein_teilchen_ genannt. Wir können nun auf die Methoden und Objektvariablen unseres Objekts zugreifen, indem wir hinter dem Objektnamen einen Punkt und dann den Objektvariablennamen bzw. Methodennamen schreiben.\n",
    "Es ist so sogar möglich, neue Objektvariablen auf diese Weise hinzuzufügen nachdem das Objekt schon erstellt wurde.\n",
    "\n"
   ]
  },
  {
   "cell_type": "code",
   "execution_count": null,
   "id": "1f9b0e24-0dc0-4e3d-a677-217f758cb2be",
   "metadata": {},
   "outputs": [],
   "source": []
  },
  {
   "cell_type": "code",
   "execution_count": null,
   "id": "ed3948c4-32b1-4174-afb2-2681c40e2e93",
   "metadata": {},
   "outputs": [],
   "source": [
    "#Hier bitte den Python-Code aus der vorhergehenden Notebook-Zelle testen."
   ]
  },
  {
   "cell_type": "code",
   "execution_count": null,
   "id": "edfe475a-5d88-45e6-94d6-db32371628c7",
   "metadata": {},
   "outputs": [],
   "source": []
  },
  {
   "cell_type": "code",
   "execution_count": null,
   "id": "288f2363-3cde-4681-9c36-e1b72f47faa6",
   "metadata": {},
   "outputs": [],
   "source": []
  },
  {
   "cell_type": "code",
   "execution_count": null,
   "id": "7053d08a-be35-4774-becf-16126d908794",
   "metadata": {},
   "outputs": [],
   "source": []
  },
  {
   "cell_type": "code",
   "execution_count": null,
   "id": "18a7ecc1-01ee-4926-b865-4424fcf21f6c",
   "metadata": {},
   "outputs": [],
   "source": []
  },
  {
   "cell_type": "code",
   "execution_count": null,
   "id": "28c5df5a-b145-4e35-9a83-09302b8ef49f",
   "metadata": {},
   "outputs": [],
   "source": []
  },
  {
   "cell_type": "code",
   "execution_count": null,
   "id": "274a5b45-e61e-49ec-bfec-455b622eb3d2",
   "metadata": {},
   "outputs": [],
   "source": []
  },
  {
   "cell_type": "code",
   "execution_count": null,
   "id": "7c40f68f-4ef8-4eda-adb8-88d6a3933b39",
   "metadata": {},
   "outputs": [],
   "source": []
  },
  {
   "cell_type": "code",
   "execution_count": null,
   "id": "f75638c0-dff8-4cfb-8c80-ef69fcf56564",
   "metadata": {},
   "outputs": [],
   "source": [
    "#Hier bitte den Python-Code aus der vorhergehenden Notebook-Zelle testen."
   ]
  },
  {
   "cell_type": "code",
   "execution_count": null,
   "id": "960cad51-594f-4abb-b512-c3e7704b4390",
   "metadata": {},
   "outputs": [],
   "source": [
    "#Hier bitte den Python-Code aus der vorhergehenden Notebook-Zelle testen."
   ]
  },
  {
   "cell_type": "code",
   "execution_count": null,
   "id": "3018ec96-decf-4acb-aa8b-74b99f262dd2",
   "metadata": {},
   "outputs": [],
   "source": [
    "#Hier bitte den Python-Code aus der vorhergehenden Notebook-Zelle testen."
   ]
  },
  {
   "cell_type": "code",
   "execution_count": null,
   "id": "048c6f75-a394-4af7-a7ab-03c3e525d6c1",
   "metadata": {},
   "outputs": [],
   "source": [
    "#Hier bitte den Python-Code aus der vorhergehenden Notebook-Zelle testen."
   ]
  }
 ],
 "metadata": {
  "kernelspec": {
   "display_name": "Python 3",
   "language": "python",
   "name": "python3"
  },
  "language_info": {
   "codemirror_mode": {
    "name": "ipython",
    "version": 3
   },
   "file_extension": ".py",
   "mimetype": "text/x-python",
   "name": "python",
   "nbconvert_exporter": "python",
   "pygments_lexer": "ipython3",
   "version": "3.8.3"
  }
 },
 "nbformat": 4,
 "nbformat_minor": 5
}
