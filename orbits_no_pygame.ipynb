{
 "cells": [
  {
   "cell_type": "code",
   "execution_count": 29,
   "id": "cc106032-ae07-4f54-9cde-08528617f5e0",
   "metadata": {},
   "outputs": [
    {
     "ename": "NameError",
     "evalue": "name 'pygame' is not defined",
     "output_type": "error",
     "traceback": [
      "\u001b[0;31m---------------------------------------------------------------------------\u001b[0m",
      "\u001b[0;31mNameError\u001b[0m                                 Traceback (most recent call last)",
      "\u001b[0;32m<ipython-input-29-0ce411942b1a>\u001b[0m in \u001b[0;36m<module>\u001b[0;34m\u001b[0m\n\u001b[1;32m      7\u001b[0m \u001b[0mDARK_GREY\u001b[0m \u001b[0;34m=\u001b[0m \u001b[0;34m(\u001b[0m\u001b[0;36m80\u001b[0m\u001b[0;34m,\u001b[0m \u001b[0;36m78\u001b[0m\u001b[0;34m,\u001b[0m \u001b[0;36m81\u001b[0m\u001b[0;34m)\u001b[0m\u001b[0;34m\u001b[0m\u001b[0;34m\u001b[0m\u001b[0m\n\u001b[1;32m      8\u001b[0m \u001b[0;34m\u001b[0m\u001b[0m\n\u001b[0;32m----> 9\u001b[0;31m \u001b[0mFONT\u001b[0m \u001b[0;34m=\u001b[0m \u001b[0mpygame\u001b[0m\u001b[0;34m.\u001b[0m\u001b[0mfont\u001b[0m\u001b[0;34m.\u001b[0m\u001b[0mSysFont\u001b[0m\u001b[0;34m(\u001b[0m\u001b[0;34m\"comicsans\"\u001b[0m\u001b[0;34m,\u001b[0m \u001b[0;36m16\u001b[0m\u001b[0;34m)\u001b[0m\u001b[0;34m\u001b[0m\u001b[0;34m\u001b[0m\u001b[0m\n\u001b[0m",
      "\u001b[0;31mNameError\u001b[0m: name 'pygame' is not defined"
     ]
    }
   ],
   "source": [
    "import math\n",
    "\n",
    "WHITE = (255, 255, 255)\n",
    "YELLOW = (255, 255, 0)\n",
    "BLUE = (100, 149, 237)\n",
    "RED = (188, 39, 50)\n",
    "DARK_GREY = (80, 78, 81)\n",
    "\n"
   ]
  },
  {
   "cell_type": "code",
   "execution_count": 25,
   "id": "482fb8e1-3a4c-4959-aa96-2a7133abddbd",
   "metadata": {},
   "outputs": [],
   "source": [
    "class Planet:\n",
    "        AU = 149.6e6 * 1000\n",
    "        G = 6.67428e-11\n",
    "        SCALE = 250 / AU  # 1AU = 100 pixels\n",
    "        TIMESTEP = 3600*24 # 1 day\n",
    "\n",
    "        def __init__(self, x, y, radius, color, mass, name):\n",
    "                self.x = x\n",
    "                self.y = y\n",
    "                self.radius = radius\n",
    "                self.color = color\n",
    "                self.mass = mass\n",
    "\n",
    "                self.orbit = []\n",
    "                self.sun = False\n",
    "                self.distance_to_sun = 0\n",
    "\n",
    "                self.x_vel = 0\n",
    "                self.y_vel = 0\n",
    "                self.name = name\n",
    "\n",
    "\n",
    "        def attraction(self, other):\n",
    "                other_x, other_y = other.x, other.y\n",
    "                distance_x = other_x - self.x\n",
    "                distance_y = other_y - self.y\n",
    "                distance = math.sqrt(distance_x ** 2 + distance_y ** 2)\n",
    "\n",
    "                if other.sun:\n",
    "                        self.distance_to_sun = distance\n",
    "\n",
    "                force = self.G * self.mass * other.mass / distance**2\n",
    "                theta = math.atan2(distance_y, distance_x)\n",
    "                force_x = math.cos(theta) * force\n",
    "                force_y = math.sin(theta) * force\n",
    "                return force_x, force_y\n",
    "\n",
    "        def update_position(self, planets):\n",
    "                total_fx = total_fy = 0\n",
    "                for planet in planets:\n",
    "                        if self == planet:\n",
    "                                continue\n",
    "\n",
    "                        fx, fy = self.attraction(planet)\n",
    "                        total_fx += fx\n",
    "                        total_fy += fy\n",
    "\n",
    "                self.x_vel += total_fx / self.mass * self.TIMESTEP\n",
    "                self.y_vel += total_fy / self.mass * self.TIMESTEP\n",
    "\n",
    "                self.x += self.x_vel * self.TIMESTEP\n",
    "                self.y += self.y_vel * self.TIMESTEP\n",
    "                self.orbit.append((self.x, self.y))\n",
    "                \n"
   ]
  },
  {
   "cell_type": "code",
   "execution_count": 26,
   "id": "a39427b0-1a7e-41f7-bc5d-2374b15f1ff2",
   "metadata": {},
   "outputs": [],
   "source": [
    "\n",
    "        sun = Planet(0, 0, 30, YELLOW, 1.98892 * 10**30, \"S\")\n",
    "        sun.sun = True\n",
    "\n",
    "        earth = Planet(-1 * Planet.AU, 0, 16, BLUE, 5.9742 * 10**24, \"Er\")\n",
    "        earth.y_vel = 29.783 * 1000\n",
    "\n",
    "        mars = Planet(-1.524 * Planet.AU, 0, 12, RED, 6.39 * 10**23, \"Mg\")\n",
    "        mars.y_vel = 24.077 * 1000\n",
    "\n",
    "        mercury = Planet(0.387 * Planet.AU, 0, 8, DARK_GREY, 3.30 * 10**23, \"Hg\")\n",
    "        mercury.y_vel = -47.4 * 1000\n",
    "\n",
    "        venus = Planet(0.723 * Planet.AU, 0, 14, WHITE, 4.8685 * 10**24, \"V\")\n",
    "        venus.y_vel = -35.02 * 1000\n",
    "\n",
    "        planets = [sun, earth, mars, mercury, venus]\n",
    "\n",
    "\n"
   ]
  },
  {
   "cell_type": "code",
   "execution_count": null,
   "id": "3977e4b2-4568-4ae6-bea7-61af32d11016",
   "metadata": {},
   "outputs": [],
   "source": []
  },
  {
   "cell_type": "code",
   "execution_count": 27,
   "id": "753ec0a6-f376-43cf-82b4-b9aa90e4f7b8",
   "metadata": {},
   "outputs": [],
   "source": [
    "    \n",
    "        trajectory = []\n",
    "        norm =  (0.2* 100* 10**9  )\n",
    "        for i in range(1000):\n",
    "                trajectory.append([])\n",
    "                trajectory[i].append([len(planets)])\n",
    "                trajectory[i].append([\" \"])\n",
    "                for planet in planets:\n",
    "                        planet.update_position(planets)\n",
    "                        trajectory[i].append([planet.name, planet.x/norm, planet.y/norm, 0.0 ])\n",
    "                       "
   ]
  },
  {
   "cell_type": "code",
   "execution_count": 28,
   "id": "28e1287f-ce5e-4356-8e6b-c30cea804895",
   "metadata": {},
   "outputs": [],
   "source": [
    "filename1 =  \"orb_planets_v3.xyz\"\n",
    "with open(filename1, \"w\") as myfile:\n",
    "                    #myfile.write(\"5 \\n\")\n",
    "    for frame in trajectory:\n",
    "        for line in frame:\n",
    "            #myfile.write(*line)\n",
    "            for item in line:\n",
    "                myfile.write(f\"{item} \")\n",
    "            \n",
    "            myfile.write(\"\\n\")"
   ]
  },
  {
   "cell_type": "code",
   "execution_count": 23,
   "id": "38a4f9d5-4341-41e4-8c52-6cea9f7cfa59",
   "metadata": {},
   "outputs": [],
   "source": [
    "     "
   ]
  },
  {
   "cell_type": "code",
   "execution_count": 4,
   "id": "0be94138-f4e6-4822-8c4a-6fc6953d1a4e",
   "metadata": {},
   "outputs": [],
   "source": []
  },
  {
   "cell_type": "code",
   "execution_count": null,
   "id": "8362ff92-7fab-47d6-9b21-88e0b675d425",
   "metadata": {},
   "outputs": [],
   "source": []
  }
 ],
 "metadata": {
  "kernelspec": {
   "display_name": "Python 3",
   "language": "python",
   "name": "python3"
  },
  "language_info": {
   "codemirror_mode": {
    "name": "ipython",
    "version": 3
   },
   "file_extension": ".py",
   "mimetype": "text/x-python",
   "name": "python",
   "nbconvert_exporter": "python",
   "pygments_lexer": "ipython3",
   "version": "3.8.3"
  }
 },
 "nbformat": 4,
 "nbformat_minor": 5
}
